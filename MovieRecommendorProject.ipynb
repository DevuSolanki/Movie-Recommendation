{
  "nbformat": 4,
  "nbformat_minor": 0,
  "metadata": {
    "colab": {
      "name": "Recommender_Dhrub.ipynb",
      "provenance": []
    },
    "kernelspec": {
      "name": "python3",
      "display_name": "Python 3"
    },
    "language_info": {
      "name": "python"
    }
  },
  "cells": [
    {
      "cell_type": "code",
      "metadata": {
        "id": "uKJFWp5J3q1l"
      },
      "source": [
        "import numpy as np\n",
        "import pandas as pd\n",
        "import matplotlib.pyplot as plt\n",
        "import seaborn as sns\n",
        "import re\n",
        "\n",
        "import warnings\n",
        "warnings.filterwarnings('ignore')"
      ],
      "execution_count": null,
      "outputs": []
    },
    {
      "cell_type": "code",
      "metadata": {
        "colab": {
          "base_uri": "https://localhost:8080/"
        },
        "id": "nfsVEnmB4yil",
        "outputId": "babe97bc-5a49-48a8-fea4-e0263500f42c"
      },
      "source": [
        "from google.colab import drive \n",
        "drive.mount('/content/drive')"
      ],
      "execution_count": null,
      "outputs": [
        {
          "output_type": "stream",
          "text": [
            "Drive already mounted at /content/drive; to attempt to forcibly remount, call drive.mount(\"/content/drive\", force_remount=True).\n"
          ],
          "name": "stdout"
        }
      ]
    },
    {
      "cell_type": "code",
      "metadata": {
        "id": "x5qSBG9I5Eut"
      },
      "source": [
        "df = pd.read_csv('/content/drive/MyDrive/Colab Notebooks/IMDb movies.csv')\n",
        "temp = df"
      ],
      "execution_count": null,
      "outputs": []
    },
    {
      "cell_type": "code",
      "metadata": {
        "colab": {
          "base_uri": "https://localhost:8080/",
          "height": 660
        },
        "id": "-GO8gyG-N9Of",
        "outputId": "f1be4010-c101-414c-f6fb-cd66fa2294d2"
      },
      "source": [
        "df.head()"
      ],
      "execution_count": null,
      "outputs": [
        {
          "output_type": "execute_result",
          "data": {
            "text/html": [
              "<div>\n",
              "<style scoped>\n",
              "    .dataframe tbody tr th:only-of-type {\n",
              "        vertical-align: middle;\n",
              "    }\n",
              "\n",
              "    .dataframe tbody tr th {\n",
              "        vertical-align: top;\n",
              "    }\n",
              "\n",
              "    .dataframe thead th {\n",
              "        text-align: right;\n",
              "    }\n",
              "</style>\n",
              "<table border=\"1\" class=\"dataframe\">\n",
              "  <thead>\n",
              "    <tr style=\"text-align: right;\">\n",
              "      <th></th>\n",
              "      <th>imdb_title_id</th>\n",
              "      <th>title</th>\n",
              "      <th>original_title</th>\n",
              "      <th>year</th>\n",
              "      <th>date_published</th>\n",
              "      <th>genre</th>\n",
              "      <th>duration</th>\n",
              "      <th>country</th>\n",
              "      <th>language</th>\n",
              "      <th>director</th>\n",
              "      <th>writer</th>\n",
              "      <th>production_company</th>\n",
              "      <th>actors</th>\n",
              "      <th>description</th>\n",
              "      <th>avg_vote</th>\n",
              "      <th>votes</th>\n",
              "      <th>budget</th>\n",
              "      <th>usa_gross_income</th>\n",
              "      <th>worlwide_gross_income</th>\n",
              "      <th>metascore</th>\n",
              "      <th>reviews_from_users</th>\n",
              "      <th>reviews_from_critics</th>\n",
              "    </tr>\n",
              "  </thead>\n",
              "  <tbody>\n",
              "    <tr>\n",
              "      <th>0</th>\n",
              "      <td>tt0000009</td>\n",
              "      <td>Miss Jerry</td>\n",
              "      <td>Miss Jerry</td>\n",
              "      <td>1894</td>\n",
              "      <td>1894-10-09</td>\n",
              "      <td>Romance</td>\n",
              "      <td>45</td>\n",
              "      <td>USA</td>\n",
              "      <td>None</td>\n",
              "      <td>Alexander Black</td>\n",
              "      <td>Alexander Black</td>\n",
              "      <td>Alexander Black Photoplays</td>\n",
              "      <td>Blanche Bayliss, William Courtenay, Chauncey D...</td>\n",
              "      <td>The adventures of a female reporter in the 1890s.</td>\n",
              "      <td>5.9</td>\n",
              "      <td>154</td>\n",
              "      <td>NaN</td>\n",
              "      <td>NaN</td>\n",
              "      <td>NaN</td>\n",
              "      <td>NaN</td>\n",
              "      <td>1.0</td>\n",
              "      <td>2.0</td>\n",
              "    </tr>\n",
              "    <tr>\n",
              "      <th>1</th>\n",
              "      <td>tt0000574</td>\n",
              "      <td>The Story of the Kelly Gang</td>\n",
              "      <td>The Story of the Kelly Gang</td>\n",
              "      <td>1906</td>\n",
              "      <td>1906-12-26</td>\n",
              "      <td>Biography, Crime, Drama</td>\n",
              "      <td>70</td>\n",
              "      <td>Australia</td>\n",
              "      <td>None</td>\n",
              "      <td>Charles Tait</td>\n",
              "      <td>Charles Tait</td>\n",
              "      <td>J. and N. Tait</td>\n",
              "      <td>Elizabeth Tait, John Tait, Norman Campbell, Be...</td>\n",
              "      <td>True story of notorious Australian outlaw Ned ...</td>\n",
              "      <td>6.1</td>\n",
              "      <td>589</td>\n",
              "      <td>$ 2250</td>\n",
              "      <td>NaN</td>\n",
              "      <td>NaN</td>\n",
              "      <td>NaN</td>\n",
              "      <td>7.0</td>\n",
              "      <td>7.0</td>\n",
              "    </tr>\n",
              "    <tr>\n",
              "      <th>2</th>\n",
              "      <td>tt0001892</td>\n",
              "      <td>Den sorte drøm</td>\n",
              "      <td>Den sorte drøm</td>\n",
              "      <td>1911</td>\n",
              "      <td>1911-08-19</td>\n",
              "      <td>Drama</td>\n",
              "      <td>53</td>\n",
              "      <td>Germany, Denmark</td>\n",
              "      <td>NaN</td>\n",
              "      <td>Urban Gad</td>\n",
              "      <td>Urban Gad, Gebhard Schätzler-Perasini</td>\n",
              "      <td>Fotorama</td>\n",
              "      <td>Asta Nielsen, Valdemar Psilander, Gunnar Helse...</td>\n",
              "      <td>Two men of high rank are both wooing the beaut...</td>\n",
              "      <td>5.8</td>\n",
              "      <td>188</td>\n",
              "      <td>NaN</td>\n",
              "      <td>NaN</td>\n",
              "      <td>NaN</td>\n",
              "      <td>NaN</td>\n",
              "      <td>5.0</td>\n",
              "      <td>2.0</td>\n",
              "    </tr>\n",
              "    <tr>\n",
              "      <th>3</th>\n",
              "      <td>tt0002101</td>\n",
              "      <td>Cleopatra</td>\n",
              "      <td>Cleopatra</td>\n",
              "      <td>1912</td>\n",
              "      <td>1912-11-13</td>\n",
              "      <td>Drama, History</td>\n",
              "      <td>100</td>\n",
              "      <td>USA</td>\n",
              "      <td>English</td>\n",
              "      <td>Charles L. Gaskill</td>\n",
              "      <td>Victorien Sardou</td>\n",
              "      <td>Helen Gardner Picture Players</td>\n",
              "      <td>Helen Gardner, Pearl Sindelar, Miss Fielding, ...</td>\n",
              "      <td>The fabled queen of Egypt's affair with Roman ...</td>\n",
              "      <td>5.2</td>\n",
              "      <td>446</td>\n",
              "      <td>$ 45000</td>\n",
              "      <td>NaN</td>\n",
              "      <td>NaN</td>\n",
              "      <td>NaN</td>\n",
              "      <td>25.0</td>\n",
              "      <td>3.0</td>\n",
              "    </tr>\n",
              "    <tr>\n",
              "      <th>4</th>\n",
              "      <td>tt0002130</td>\n",
              "      <td>L'Inferno</td>\n",
              "      <td>L'Inferno</td>\n",
              "      <td>1911</td>\n",
              "      <td>1911-03-06</td>\n",
              "      <td>Adventure, Drama, Fantasy</td>\n",
              "      <td>68</td>\n",
              "      <td>Italy</td>\n",
              "      <td>Italian</td>\n",
              "      <td>Francesco Bertolini, Adolfo Padovan</td>\n",
              "      <td>Dante Alighieri</td>\n",
              "      <td>Milano Film</td>\n",
              "      <td>Salvatore Papa, Arturo Pirovano, Giuseppe de L...</td>\n",
              "      <td>Loosely adapted from Dante's Divine Comedy and...</td>\n",
              "      <td>7.0</td>\n",
              "      <td>2237</td>\n",
              "      <td>NaN</td>\n",
              "      <td>NaN</td>\n",
              "      <td>NaN</td>\n",
              "      <td>NaN</td>\n",
              "      <td>31.0</td>\n",
              "      <td>14.0</td>\n",
              "    </tr>\n",
              "  </tbody>\n",
              "</table>\n",
              "</div>"
            ],
            "text/plain": [
              "  imdb_title_id  ... reviews_from_critics\n",
              "0     tt0000009  ...                  2.0\n",
              "1     tt0000574  ...                  7.0\n",
              "2     tt0001892  ...                  2.0\n",
              "3     tt0002101  ...                  3.0\n",
              "4     tt0002130  ...                 14.0\n",
              "\n",
              "[5 rows x 22 columns]"
            ]
          },
          "metadata": {
            "tags": []
          },
          "execution_count": 4
        }
      ]
    },
    {
      "cell_type": "code",
      "metadata": {
        "id": "SOxj5fb0F7oT"
      },
      "source": [
        "#ratings"
      ],
      "execution_count": null,
      "outputs": []
    },
    {
      "cell_type": "code",
      "metadata": {
        "colab": {
          "base_uri": "https://localhost:8080/"
        },
        "id": "hJo12EKg5rfd",
        "outputId": "0eeb4d53-4f8b-42ee-84ba-ae40c50800a7"
      },
      "source": [
        "df.isnull().sum()"
      ],
      "execution_count": null,
      "outputs": [
        {
          "output_type": "execute_result",
          "data": {
            "text/plain": [
              "imdb_title_id                0\n",
              "title                        0\n",
              "original_title               0\n",
              "year                         0\n",
              "date_published               0\n",
              "genre                        0\n",
              "duration                     0\n",
              "country                     64\n",
              "language                   833\n",
              "director                    87\n",
              "writer                    1572\n",
              "production_company        4455\n",
              "actors                      69\n",
              "description               2115\n",
              "avg_vote                     0\n",
              "votes                        0\n",
              "budget                   62145\n",
              "usa_gross_income         70529\n",
              "worlwide_gross_income    54839\n",
              "metascore                72550\n",
              "reviews_from_users        7597\n",
              "reviews_from_critics     11797\n",
              "dtype: int64"
            ]
          },
          "metadata": {
            "tags": []
          },
          "execution_count": 7
        }
      ]
    },
    {
      "cell_type": "code",
      "metadata": {
        "id": "PI0ocC-w6Ytz"
      },
      "source": [
        "df1 = df.drop(['budget', 'usa_gross_income', 'worlwide_gross_income', 'metascore', 'reviews_from_users', 'reviews_from_critics'], axis=1)"
      ],
      "execution_count": null,
      "outputs": []
    },
    {
      "cell_type": "code",
      "metadata": {
        "colab": {
          "base_uri": "https://localhost:8080/"
        },
        "id": "zU0-CxAn56pW",
        "outputId": "ef09dc94-934e-4370-e5f9-c340b57db10f"
      },
      "source": [
        "pd.unique(df1['year'])"
      ],
      "execution_count": null,
      "outputs": [
        {
          "output_type": "execute_result",
          "data": {
            "text/plain": [
              "array([1894, 1906, 1911, 1912, 1919, 1913, 1914, 1915, 1916, 1917, 1918,\n",
              "       1920, 1921, 1924, 1922, 1923, 1925, 1926, 1935, 1927, 1928, 1983,\n",
              "       1929, 1930, 1932, 1931, 1937, 1938, 1933, 1934, 1936, 1940, 1939,\n",
              "       1942, 1943, 1941, 1948, 1944, 2001, 1946, 1945, 1947, 1973, 1949,\n",
              "       1950, 1952, 1951, 1962, 1953, 1954, 1955, 1961, 1956, 1958, 1957,\n",
              "       1959, 1960, 1963, 1965, 1971, 1964, 1966, 1968, 1967, 1969, 1976,\n",
              "       1970, 1979, 1972, 1981, 1978, 2000, 1989, 1975, 1974, 1986, 1990,\n",
              "       2018, 1977, 1982, 1980, 1993, 1984, 1985, 1988, 1987, 2005, 1991,\n",
              "       2002, 1994, 1992, 1995, 2017, 1997, 1996, 2006, 1999, 1998, 2007,\n",
              "       2008, 2003, 2004, 2010, 2009, 2011, 2013, 2012, 2016, 2015, 2014,\n",
              "       2019, 2020, '2012', '2015', '2009', '2013', '2018', '2014', '2017',\n",
              "       '2011', '2016', '1981', '1975', '2010', '1984', '2007', '2006',\n",
              "       '2001', '2004', '1979', '2019', '1967', '1978', '2003', '2005',\n",
              "       '1969', '1990', '1983', '2002', '1996', '2008', '1995', '1999',\n",
              "       '1974', '1993', '1998', '1989', '2020', '1966', '1956', '1962',\n",
              "       '1985', '2000', '1971', '1970', '1986', '1930', '1976', '1982',\n",
              "       '1992', '1963', '1994', '1964', '1997', '1987', '1980',\n",
              "       'TV Movie 2019', '1988'], dtype=object)"
            ]
          },
          "metadata": {
            "tags": []
          },
          "execution_count": 9
        }
      ]
    },
    {
      "cell_type": "code",
      "metadata": {
        "id": "-vmBEIYC74LN"
      },
      "source": [
        "df1['year'] = df1['year'].apply(lambda x: 2019 if x=='TV Movie 2019' else int(x))"
      ],
      "execution_count": null,
      "outputs": []
    },
    {
      "cell_type": "code",
      "metadata": {
        "colab": {
          "base_uri": "https://localhost:8080/",
          "height": 1000
        },
        "id": "RxC93DUb80au",
        "outputId": "429326b7-a423-4e27-f9f7-be822e865d4e"
      },
      "source": [
        "df1['year'].value_counts(dropna=False).sort_index().plot(kind='barh',figsize=(20,25), color='red')\n",
        "plt.grid()\n",
        "plt.show()"
      ],
      "execution_count": null,
      "outputs": [
        {
          "output_type": "display_data",
          "data": {
            "image/png": "[encoded data removed]",
            "text/plain": [
              "<Figure size 1440x1800 with 1 Axes>"
            ]
          },
          "metadata": {
            "tags": [],
            "needs_background": "light"
          }
        }
      ]
    },
    {
      "cell_type": "code",
      "metadata": {
        "id": "Ha7owK0u9uB0"
      },
      "source": [
        "df2 = df1.fillna(' ')"
      ],
      "execution_count": null,
      "outputs": []
    },
    {
      "cell_type": "code",
      "metadata": {
        "id": "SpTdSYKX97G_"
      },
      "source": [
        "features = ['genre', 'actors', 'production_company', 'description']#, 'keywords', 'belongs_to_collection']\n",
        "\n",
        "def combined_feature(row):\n",
        "    return row['genre']+' '+row['actors']+' '+row['production_company']+' '+row['description']#+' '+row['keywords']+' '+row['belongs_to_collection']"
      ],
      "execution_count": null,
      "outputs": []
    },
    {
      "cell_type": "code",
      "metadata": {
        "colab": {
          "base_uri": "https://localhost:8080/"
        },
        "id": "IymWI3H8AKeC",
        "outputId": "057d2d46-0cc6-4a39-a1de-f4641fdaf93b"
      },
      "source": [
        "count = 0\n",
        "for language in list(pd.unique(df1['language'])):\n",
        "    if count < 50:\n",
        "        print(language)\n",
        "    count = count + 1\n",
        "len(pd.unique(df1['language']))"
      ],
      "execution_count": null,
      "outputs": [
        {
          "output_type": "stream",
          "text": [
            "None\n",
            "nan\n",
            "English\n",
            "Italian\n",
            "German\n",
            "Danish\n",
            "French\n",
            "German, English\n",
            "None, English\n",
            "Hungarian\n",
            "Russian\n",
            "English, German\n",
            "Spanish\n",
            "Dutch\n",
            "Swedish\n",
            "Swedish, Danish\n",
            "English, None\n",
            "Japanese\n",
            "Latin, French, English\n",
            "English, French\n",
            "None, English, French\n",
            "None, French\n",
            "English, Greek\n",
            "English, Yiddish\n",
            "Sign Languages\n",
            "English, Spanish\n",
            "English, Mandarin\n",
            "Mandarin\n",
            "None, Russian\n",
            "Czech\n",
            "English, Spanish, Italian\n",
            "English, Polynesian\n",
            "English, Cantonese, German\n",
            "English, French, German, Latin\n",
            "English, Russian\n",
            "German, English, French\n",
            "English, Italian, French\n",
            "Russian, German, French, Yiddish\n",
            "English, German, French\n",
            "English, Italian\n",
            "English, French, Spanish, Arabic, Italian\n",
            "English, Spanish, French\n",
            "Vietnamese, French\n",
            "English, German, Italian\n",
            "English, Mandarin, French\n",
            "French, Romanian\n",
            "German, French\n",
            "Hindi, Urdu\n",
            "English, Italian, Swedish\n",
            "English, French, German\n"
          ],
          "name": "stdout"
        },
        {
          "output_type": "execute_result",
          "data": {
            "text/plain": [
              "4378"
            ]
          },
          "metadata": {
            "tags": []
          },
          "execution_count": 14
        }
      ]
    },
    {
      "cell_type": "code",
      "metadata": {
        "id": "1P0BIWn_hTnN"
      },
      "source": [
        "df2['language'] = df2.language.apply(lambda x: x.split(', ')[0])"
      ],
      "execution_count": null,
      "outputs": []
    },
    {
      "cell_type": "code",
      "metadata": {
        "colab": {
          "base_uri": "https://localhost:8080/"
        },
        "id": "yTr8lu4GjsFp",
        "outputId": "bf86d715-feb9-4366-e243-95693fec15ef"
      },
      "source": [
        "language_stats = df2['language'].value_counts(ascending=False)\n",
        "language_stats"
      ],
      "execution_count": null,
      "outputs": [
        {
          "output_type": "execute_result",
          "data": {
            "text/plain": [
              "English     42779\n",
              "French       5353\n",
              "Spanish      3423\n",
              "Italian      3292\n",
              "Japanese     3168\n",
              "            ...  \n",
              "Chechen         1\n",
              "Tswana          1\n",
              "Faroese         1\n",
              "Haida           1\n",
              "Lingala         1\n",
              "Name: language, Length: 167, dtype: int64"
            ]
          },
          "metadata": {
            "tags": []
          },
          "execution_count": 16
        }
      ]
    },
    {
      "cell_type": "code",
      "metadata": {
        "id": "enLHbb1yj7ov"
      },
      "source": [
        "small_movie_collections_by_language = language_stats[language_stats<500] "
      ],
      "execution_count": null,
      "outputs": []
    },
    {
      "cell_type": "code",
      "metadata": {
        "colab": {
          "base_uri": "https://localhost:8080/"
        },
        "id": "OLkWrQbalJWp",
        "outputId": "dfe994eb-4413-4cde-ebe8-193715a2288a"
      },
      "source": [
        "df2.language = df2.language.apply(lambda x: 'other' if x in small_movie_collections_by_language else x)\n",
        "len(df2.language.unique())"
      ],
      "execution_count": null,
      "outputs": [
        {
          "output_type": "execute_result",
          "data": {
            "text/plain": [
              "27"
            ]
          },
          "metadata": {
            "tags": []
          },
          "execution_count": 18
        }
      ]
    },
    {
      "cell_type": "code",
      "metadata": {
        "colab": {
          "base_uri": "https://localhost:8080/"
        },
        "id": "vjbj4-6xl-tt",
        "outputId": "b8b0d178-418d-45d0-b88b-d57828f84787"
      },
      "source": [
        "df2 = df2[(df2['language']!='other')]\n",
        "df2.shape"
      ],
      "execution_count": null,
      "outputs": [
        {
          "output_type": "execute_result",
          "data": {
            "text/plain": [
              "(80033, 16)"
            ]
          },
          "metadata": {
            "tags": []
          },
          "execution_count": 19
        }
      ]
    },
    {
      "cell_type": "code",
      "metadata": {
        "colab": {
          "base_uri": "https://localhost:8080/",
          "height": 660
        },
        "id": "0VYly9TeUHKJ",
        "outputId": "23d061f5-ecf1-4f22-80ac-b9f1cecc8507"
      },
      "source": [
        "df2['New_genre'] = df2.genre.apply(lambda x: str([(i+' ')*((3)-re.findall('[A-z]+', x).index(i)) for i in re.findall('[A-z]+', x)])[1:-1])\n",
        "df2.head()"
      ],
      "execution_count": null,
      "outputs": [
        {
          "output_type": "execute_result",
          "data": {
            "text/html": [
              "<div>\n",
              "<style scoped>\n",
              "    .dataframe tbody tr th:only-of-type {\n",
              "        vertical-align: middle;\n",
              "    }\n",
              "\n",
              "    .dataframe tbody tr th {\n",
              "        vertical-align: top;\n",
              "    }\n",
              "\n",
              "    .dataframe thead th {\n",
              "        text-align: right;\n",
              "    }\n",
              "</style>\n",
              "<table border=\"1\" class=\"dataframe\">\n",
              "  <thead>\n",
              "    <tr style=\"text-align: right;\">\n",
              "      <th></th>\n",
              "      <th>imdb_title_id</th>\n",
              "      <th>title</th>\n",
              "      <th>original_title</th>\n",
              "      <th>year</th>\n",
              "      <th>date_published</th>\n",
              "      <th>genre</th>\n",
              "      <th>duration</th>\n",
              "      <th>country</th>\n",
              "      <th>language</th>\n",
              "      <th>director</th>\n",
              "      <th>writer</th>\n",
              "      <th>production_company</th>\n",
              "      <th>actors</th>\n",
              "      <th>description</th>\n",
              "      <th>avg_vote</th>\n",
              "      <th>votes</th>\n",
              "      <th>New_genre</th>\n",
              "    </tr>\n",
              "  </thead>\n",
              "  <tbody>\n",
              "    <tr>\n",
              "      <th>2</th>\n",
              "      <td>tt0001892</td>\n",
              "      <td>Den sorte drøm</td>\n",
              "      <td>Den sorte drøm</td>\n",
              "      <td>1911</td>\n",
              "      <td>1911-08-19</td>\n",
              "      <td>Drama</td>\n",
              "      <td>53</td>\n",
              "      <td>Germany, Denmark</td>\n",
              "      <td></td>\n",
              "      <td>Urban Gad</td>\n",
              "      <td>Urban Gad, Gebhard Schätzler-Perasini</td>\n",
              "      <td>Fotorama</td>\n",
              "      <td>Asta Nielsen, Valdemar Psilander, Gunnar Helse...</td>\n",
              "      <td>Two men of high rank are both wooing the beaut...</td>\n",
              "      <td>5.8</td>\n",
              "      <td>188</td>\n",
              "      <td>'Drama Drama Drama '</td>\n",
              "    </tr>\n",
              "    <tr>\n",
              "      <th>3</th>\n",
              "      <td>tt0002101</td>\n",
              "      <td>Cleopatra</td>\n",
              "      <td>Cleopatra</td>\n",
              "      <td>1912</td>\n",
              "      <td>1912-11-13</td>\n",
              "      <td>Drama, History</td>\n",
              "      <td>100</td>\n",
              "      <td>USA</td>\n",
              "      <td>English</td>\n",
              "      <td>Charles L. Gaskill</td>\n",
              "      <td>Victorien Sardou</td>\n",
              "      <td>Helen Gardner Picture Players</td>\n",
              "      <td>Helen Gardner, Pearl Sindelar, Miss Fielding, ...</td>\n",
              "      <td>The fabled queen of Egypt's affair with Roman ...</td>\n",
              "      <td>5.2</td>\n",
              "      <td>446</td>\n",
              "      <td>'Drama Drama Drama ', 'History History '</td>\n",
              "    </tr>\n",
              "    <tr>\n",
              "      <th>4</th>\n",
              "      <td>tt0002130</td>\n",
              "      <td>L'Inferno</td>\n",
              "      <td>L'Inferno</td>\n",
              "      <td>1911</td>\n",
              "      <td>1911-03-06</td>\n",
              "      <td>Adventure, Drama, Fantasy</td>\n",
              "      <td>68</td>\n",
              "      <td>Italy</td>\n",
              "      <td>Italian</td>\n",
              "      <td>Francesco Bertolini, Adolfo Padovan</td>\n",
              "      <td>Dante Alighieri</td>\n",
              "      <td>Milano Film</td>\n",
              "      <td>Salvatore Papa, Arturo Pirovano, Giuseppe de L...</td>\n",
              "      <td>Loosely adapted from Dante's Divine Comedy and...</td>\n",
              "      <td>7.0</td>\n",
              "      <td>2237</td>\n",
              "      <td>'Adventure Adventure Adventure ', 'Drama Drama...</td>\n",
              "    </tr>\n",
              "    <tr>\n",
              "      <th>5</th>\n",
              "      <td>tt0002199</td>\n",
              "      <td>From the Manger to the Cross; or, Jesus of Naz...</td>\n",
              "      <td>From the Manger to the Cross; or, Jesus of Naz...</td>\n",
              "      <td>1912</td>\n",
              "      <td>1913</td>\n",
              "      <td>Biography, Drama</td>\n",
              "      <td>60</td>\n",
              "      <td>USA</td>\n",
              "      <td>English</td>\n",
              "      <td>Sidney Olcott</td>\n",
              "      <td>Gene Gauntier</td>\n",
              "      <td>Kalem Company</td>\n",
              "      <td>R. Henderson Bland, Percy Dyer, Gene Gauntier,...</td>\n",
              "      <td>An account of the life of Jesus Christ, based ...</td>\n",
              "      <td>5.7</td>\n",
              "      <td>484</td>\n",
              "      <td>'Biography Biography Biography ', 'Drama Drama '</td>\n",
              "    </tr>\n",
              "    <tr>\n",
              "      <th>6</th>\n",
              "      <td>tt0002423</td>\n",
              "      <td>Madame DuBarry</td>\n",
              "      <td>Madame DuBarry</td>\n",
              "      <td>1919</td>\n",
              "      <td>1919-11-26</td>\n",
              "      <td>Biography, Drama, Romance</td>\n",
              "      <td>85</td>\n",
              "      <td>Germany</td>\n",
              "      <td>German</td>\n",
              "      <td>Ernst Lubitsch</td>\n",
              "      <td>Norbert Falk, Hanns Kräly</td>\n",
              "      <td>Projektions-AG Union (PAGU)</td>\n",
              "      <td>Pola Negri, Emil Jannings, Harry Liedtke, Edua...</td>\n",
              "      <td>The story of Madame DuBarry, the mistress of L...</td>\n",
              "      <td>6.8</td>\n",
              "      <td>753</td>\n",
              "      <td>'Biography Biography Biography ', 'Drama Drama...</td>\n",
              "    </tr>\n",
              "  </tbody>\n",
              "</table>\n",
              "</div>"
            ],
            "text/plain": [
              "  imdb_title_id  ...                                          New_genre\n",
              "2     tt0001892  ...                               'Drama Drama Drama '\n",
              "3     tt0002101  ...           'Drama Drama Drama ', 'History History '\n",
              "4     tt0002130  ...  'Adventure Adventure Adventure ', 'Drama Drama...\n",
              "5     tt0002199  ...   'Biography Biography Biography ', 'Drama Drama '\n",
              "6     tt0002423  ...  'Biography Biography Biography ', 'Drama Drama...\n",
              "\n",
              "[5 rows x 17 columns]"
            ]
          },
          "metadata": {
            "tags": []
          },
          "execution_count": 20
        }
      ]
    },
    {
      "cell_type": "code",
      "metadata": {
        "id": "A6n1WI19tB6r",
        "colab": {
          "base_uri": "https://localhost:8080/"
        },
        "outputId": "291cd634-2488-4610-881c-27ba12090e2b"
      },
      "source": [
        "#df3 = df2.iloc[17172:34350, :]\n",
        "df3 = df2.drop_duplicates(subset=['original_title'], keep='last')\n",
        "df3.reset_index(inplace=True)\n",
        "df3.shape"
      ],
      "execution_count": null,
      "outputs": [
        {
          "output_type": "execute_result",
          "data": {
            "text/plain": [
              "(75340, 18)"
            ]
          },
          "metadata": {
            "tags": []
          },
          "execution_count": 21
        }
      ]
    },
    {
      "cell_type": "code",
      "metadata": {
        "colab": {
          "base_uri": "https://localhost:8080/",
          "height": 374
        },
        "id": "7rql5dDdoMFb",
        "outputId": "aab33560-b469-4685-c99c-7df7a95856ef"
      },
      "source": [
        "df3['language'].value_counts(dropna=True).sort_index().plot(kind='barh',figsize=(10,6), color='green')\n",
        "plt.grid()\n",
        "plt.show()"
      ],
      "execution_count": null,
      "outputs": [
        {
          "output_type": "display_data",
          "data": {
            "image/png": "[encoded data removed]",
            "text/plain": [
              "<Figure size 720x432 with 1 Axes>"
            ]
          },
          "metadata": {
            "tags": [],
            "needs_background": "light"
          }
        }
      ]
    },
    {
      "cell_type": "code",
      "metadata": {
        "colab": {
          "base_uri": "https://localhost:8080/"
        },
        "id": "9I62sixewITz",
        "outputId": "9e85c7d5-ed83-48c4-cb97-bbde34a2fd9f"
      },
      "source": [
        "import nltk\n",
        "nltk.download('stopwords')"
      ],
      "execution_count": null,
      "outputs": [
        {
          "output_type": "stream",
          "text": [
            "[nltk_data] Downloading package stopwords to /root/nltk_data...\n",
            "[nltk_data]   Package stopwords is already up-to-date!\n"
          ],
          "name": "stdout"
        },
        {
          "output_type": "execute_result",
          "data": {
            "text/plain": [
              "True"
            ]
          },
          "metadata": {
            "tags": []
          },
          "execution_count": 23
        }
      ]
    },
    {
      "cell_type": "code",
      "metadata": {
        "colab": {
          "base_uri": "https://localhost:8080/",
          "height": 357
        },
        "id": "JxrJlzGn9pY5",
        "outputId": "44cd049a-fdf3-4835-d2bd-efcaba0e5ce2"
      },
      "source": [
        "def recommendations(title, df3= df3):\n",
        "    \n",
        "    lang = df3[(df3['original_title']==title)]['language'].iloc[0]\n",
        "    \n",
        "    if lang != 'English':\n",
        "        data = df3[(df3['language']==lang)]\n",
        "    else:\n",
        "        data = df3[(df3['language']==lang)]\n",
        "        data = data[(df3['votes']>500)]\n",
        "\n",
        "    def combined_feature(row):\n",
        "        return row['genre']+' '+row['actors']+' '+row['description']+' '+row['actors']+' '+row['description']\n",
        "    \n",
        "    data['combined_features'] = data.apply(combined_feature, axis=1)\n",
        "    data['combined_features'] = data['combined_features'].apply(lambda x: ' '.join([w.lower() for w in x.split(' ')]))\n",
        "\n",
        "    import nltk\n",
        "    from nltk.corpus import stopwords\n",
        "    from sklearn.feature_extraction.text import TfidfVectorizer\n",
        "    from sklearn.metrics.pairwise import cosine_similarity\n",
        "\n",
        "    if lang != 'English': data = data \n",
        "    else: data = data[(data['votes']>500)]\n",
        "\n",
        "    stopset = set(stopwords.words('english'))\n",
        "    vectorizer = TfidfVectorizer(analyzer='word',ngram_range=(2, 2),min_df=0, strip_accents='ascii', stop_words=stopset)\n",
        "    vectorizer = TfidfVectorizer(use_idf = True,lowercase = True, strip_accents='ascii',stop_words=stopset)\n",
        "    count_matrix = vectorizer.fit_transform(data.combined_features)\n",
        "    cosine_sim = cosine_similarity(count_matrix)\n",
        "\n",
        "    def weighted_rating(x):\n",
        "        v = x['votes']\n",
        "        R = x['avg_vote']\n",
        "        return (v/(v+m) * R) + (m/(m+v) * C)\n",
        "\n",
        "    data.reset_index(inplace=True)\n",
        "    indices = pd.Series(data.index, index = data['original_title']).drop_duplicates()\n",
        "\n",
        "    \n",
        "    idx = indices[title]\n",
        "    sim_scores = list(enumerate(cosine_sim[idx]))\n",
        "    sim_scores.sort(key=lambda x: x[1], reverse= True)\n",
        "    sim_scores = sim_scores[1:26]\n",
        "    movie_indices = [i[0] for i in sim_scores]\n",
        "    \n",
        "    movies = data.iloc[movie_indices][['title', 'votes', 'avg_vote', 'year', 'genre', 'language']]\n",
        "    vote_counts = movies[movies['votes'].notnull()]['votes'].astype('int')\n",
        "    vote_averages = movies[movies['avg_vote'].notnull()]['avg_vote']#.astype('int')\n",
        "    C = vote_averages.mean()\n",
        "    m = vote_counts.quantile(0.60)\n",
        "\n",
        "    qualified = movies[(movies['votes'] >= m) & (movies['votes'].notnull()) & (movies['avg_vote'].notnull())]\n",
        "    qualified['votes'] = qualified['votes'].astype('int')\n",
        "    qualified['avg_vote'] = qualified['avg_vote']#.astype('int')\n",
        "    qualified['wr'] = qualified.apply(weighted_rating, axis=1)\n",
        "    qualified = qualified.sort_values('wr', ascending=False).head(10)\n",
        "\n",
        "    del cosine_sim\n",
        "\n",
        "    return qualified\n",
        "\n",
        "recommendations('Iron Man')"
      ],
      "execution_count": null,
      "outputs": [
        {
          "output_type": "execute_result",
          "data": {
            "text/html": [
              "<div>\n",
              "<style scoped>\n",
              "    .dataframe tbody tr th:only-of-type {\n",
              "        vertical-align: middle;\n",
              "    }\n",
              "\n",
              "    .dataframe tbody tr th {\n",
              "        vertical-align: top;\n",
              "    }\n",
              "\n",
              "    .dataframe thead th {\n",
              "        text-align: right;\n",
              "    }\n",
              "</style>\n",
              "<table border=\"1\" class=\"dataframe\">\n",
              "  <thead>\n",
              "    <tr style=\"text-align: right;\">\n",
              "      <th></th>\n",
              "      <th>title</th>\n",
              "      <th>votes</th>\n",
              "      <th>avg_vote</th>\n",
              "      <th>year</th>\n",
              "      <th>genre</th>\n",
              "      <th>language</th>\n",
              "      <th>wr</th>\n",
              "    </tr>\n",
              "  </thead>\n",
              "  <tbody>\n",
              "    <tr>\n",
              "      <th>13994</th>\n",
              "      <td>The Avengers</td>\n",
              "      <td>1241220</td>\n",
              "      <td>8.0</td>\n",
              "      <td>2012</td>\n",
              "      <td>Action, Adventure, Sci-Fi</td>\n",
              "      <td>English</td>\n",
              "      <td>7.782376</td>\n",
              "    </tr>\n",
              "    <tr>\n",
              "      <th>19289</th>\n",
              "      <td>Captain America: Civil War</td>\n",
              "      <td>644241</td>\n",
              "      <td>7.8</td>\n",
              "      <td>2016</td>\n",
              "      <td>Action, Adventure, Sci-Fi</td>\n",
              "      <td>English</td>\n",
              "      <td>7.481101</td>\n",
              "    </tr>\n",
              "    <tr>\n",
              "      <th>17838</th>\n",
              "      <td>Spider-Man: Homecoming</td>\n",
              "      <td>494060</td>\n",
              "      <td>7.4</td>\n",
              "      <td>2017</td>\n",
              "      <td>Action, Adventure, Sci-Fi</td>\n",
              "      <td>English</td>\n",
              "      <td>7.134676</td>\n",
              "    </tr>\n",
              "    <tr>\n",
              "      <th>18144</th>\n",
              "      <td>Avengers: Age of Ultron</td>\n",
              "      <td>722685</td>\n",
              "      <td>7.3</td>\n",
              "      <td>2015</td>\n",
              "      <td>Action, Adventure, Sci-Fi</td>\n",
              "      <td>English</td>\n",
              "      <td>7.122291</td>\n",
              "    </tr>\n",
              "    <tr>\n",
              "      <th>15447</th>\n",
              "      <td>Iron Man 3</td>\n",
              "      <td>739816</td>\n",
              "      <td>7.2</td>\n",
              "      <td>2013</td>\n",
              "      <td>Action, Adventure, Sci-Fi</td>\n",
              "      <td>English</td>\n",
              "      <td>7.047971</td>\n",
              "    </tr>\n",
              "    <tr>\n",
              "      <th>15199</th>\n",
              "      <td>Iron Man 2</td>\n",
              "      <td>706284</td>\n",
              "      <td>7.0</td>\n",
              "      <td>2010</td>\n",
              "      <td>Action, Adventure, Sci-Fi</td>\n",
              "      <td>English</td>\n",
              "      <td>6.889052</td>\n",
              "    </tr>\n",
              "    <tr>\n",
              "      <th>19574</th>\n",
              "      <td>Solo: A Star Wars Story</td>\n",
              "      <td>278319</td>\n",
              "      <td>6.9</td>\n",
              "      <td>2018</td>\n",
              "      <td>Action, Adventure, Sci-Fi</td>\n",
              "      <td>English</td>\n",
              "      <td>6.736278</td>\n",
              "    </tr>\n",
              "    <tr>\n",
              "      <th>15128</th>\n",
              "      <td>Escape Plan - Fuga dall'inferno</td>\n",
              "      <td>223688</td>\n",
              "      <td>6.7</td>\n",
              "      <td>2013</td>\n",
              "      <td>Action, Thriller</td>\n",
              "      <td>English</td>\n",
              "      <td>6.613813</td>\n",
              "    </tr>\n",
              "    <tr>\n",
              "      <th>16079</th>\n",
              "      <td>Elysium</td>\n",
              "      <td>413841</td>\n",
              "      <td>6.6</td>\n",
              "      <td>2013</td>\n",
              "      <td>Action, Drama, Sci-Fi</td>\n",
              "      <td>English</td>\n",
              "      <td>6.574043</td>\n",
              "    </tr>\n",
              "    <tr>\n",
              "      <th>16418</th>\n",
              "      <td>Il dittatore</td>\n",
              "      <td>268038</td>\n",
              "      <td>6.4</td>\n",
              "      <td>2012</td>\n",
              "      <td>Comedy</td>\n",
              "      <td>English</td>\n",
              "      <td>6.455143</td>\n",
              "    </tr>\n",
              "  </tbody>\n",
              "</table>\n",
              "</div>"
            ],
            "text/plain": [
              "                                 title    votes  ...  language        wr\n",
              "13994                     The Avengers  1241220  ...   English  7.782376\n",
              "19289       Captain America: Civil War   644241  ...   English  7.481101\n",
              "17838           Spider-Man: Homecoming   494060  ...   English  7.134676\n",
              "18144          Avengers: Age of Ultron   722685  ...   English  7.122291\n",
              "15447                       Iron Man 3   739816  ...   English  7.047971\n",
              "15199                       Iron Man 2   706284  ...   English  6.889052\n",
              "19574          Solo: A Star Wars Story   278319  ...   English  6.736278\n",
              "15128  Escape Plan - Fuga dall'inferno   223688  ...   English  6.613813\n",
              "16079                          Elysium   413841  ...   English  6.574043\n",
              "16418                     Il dittatore   268038  ...   English  6.455143\n",
              "\n",
              "[10 rows x 7 columns]"
            ]
          },
          "metadata": {
            "tags": []
          },
          "execution_count": 24
        }
      ]
    }
  ]
}